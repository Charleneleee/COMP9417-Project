{
 "cells": [
  {
   "cell_type": "code",
   "execution_count": 33,
   "metadata": {
    "_cell_guid": "b1076dfc-b9ad-4769-8c92-a6c4dae69d19",
    "_uuid": "8f2839f25d086af736a60e9eeb907d3b93b6e0e5",
    "execution": {
     "iopub.execute_input": "2023-07-21T11:30:48.999181Z",
     "iopub.status.busy": "2023-07-21T11:30:48.998580Z",
     "iopub.status.idle": "2023-07-21T11:30:49.008461Z",
     "shell.execute_reply": "2023-07-21T11:30:49.007281Z",
     "shell.execute_reply.started": "2023-07-21T11:30:48.999128Z"
    },
    "papermill": {
     "duration": 1.748879,
     "end_time": "2023-04-24T06:22:10.255567",
     "exception": false,
     "start_time": "2023-04-24T06:22:08.506688",
     "status": "completed"
    },
    "tags": [],
    "trusted": true,
    "ExecuteTime": {
     "end_time": "2023-08-04T06:06:31.420839Z",
     "start_time": "2023-08-04T06:06:31.414658Z"
    }
   },
   "outputs": [],
   "source": [
    "import numpy as np\n",
    "import pandas as pd\n",
    "\n",
    "\n",
    "from sklearn.metrics import r2_score, mean_squared_error, make_scorer\n",
    "\n",
    "import warnings\n",
    "\n",
    "warnings.filterwarnings('ignore')"
   ]
  },
  {
   "cell_type": "markdown",
   "metadata": {
    "papermill": {
     "duration": 0.006955,
     "end_time": "2023-04-24T06:22:10.269867",
     "exception": false,
     "start_time": "2023-04-24T06:22:10.262912",
     "status": "completed"
    },
    "tags": []
   },
   "source": [
    "# 1. Define Metric SMAPE"
   ]
  },
  {
   "cell_type": "code",
   "execution_count": 34,
   "metadata": {
    "execution": {
     "iopub.execute_input": "2023-07-21T11:30:49.011870Z",
     "iopub.status.busy": "2023-07-21T11:30:49.011427Z",
     "iopub.status.idle": "2023-07-21T11:30:49.021263Z",
     "shell.execute_reply": "2023-07-21T11:30:49.020148Z",
     "shell.execute_reply.started": "2023-07-21T11:30:49.011829Z"
    },
    "papermill": {
     "duration": 0.019141,
     "end_time": "2023-04-24T06:22:10.296222",
     "exception": false,
     "start_time": "2023-04-24T06:22:10.277081",
     "status": "completed"
    },
    "tags": [],
    "trusted": true,
    "ExecuteTime": {
     "end_time": "2023-08-04T06:06:31.839908Z",
     "start_time": "2023-08-04T06:06:31.833555Z"
    }
   },
   "outputs": [],
   "source": [
    "\n",
    "\n",
    "def smape(y_true, y_pred):\n",
    "    y_true = y_true + 1\n",
    "    y_pred = y_pred + 1\n",
    "    smap = np.zeros(len(y_true))\n",
    "    \n",
    "    num = np.abs(y_true - y_pred)\n",
    "    dem = ((np.abs(y_true) + np.abs(y_pred)) / 2)\n",
    "    \n",
    "    pos_ind = (y_true!=0)|(y_pred!=0)\n",
    "    smap[pos_ind] = num[pos_ind] / dem[pos_ind]\n",
    "    \n",
    "    return 100 * np.mean(smap)"
   ]
  },
  {
   "cell_type": "markdown",
   "metadata": {
    "papermill": {
     "duration": 0.006974,
     "end_time": "2023-04-24T06:22:10.310413",
     "exception": false,
     "start_time": "2023-04-24T06:22:10.303439",
     "status": "completed"
    },
    "tags": []
   },
   "source": [
    "# 2. Load Train and Sample Test Data"
   ]
  },
  {
   "cell_type": "markdown",
   "metadata": {
    "papermill": {
     "duration": 0.006855,
     "end_time": "2023-04-24T06:22:10.324485",
     "exception": false,
     "start_time": "2023-04-24T06:22:10.31763",
     "status": "completed"
    },
    "tags": []
   },
   "source": [
    "## 2.1 Protein data"
   ]
  },
  {
   "cell_type": "code",
   "execution_count": 35,
   "metadata": {
    "execution": {
     "iopub.execute_input": "2023-07-21T11:30:49.023215Z",
     "iopub.status.busy": "2023-07-21T11:30:49.022764Z",
     "iopub.status.idle": "2023-07-21T11:30:49.369474Z",
     "shell.execute_reply": "2023-07-21T11:30:49.368317Z",
     "shell.execute_reply.started": "2023-07-21T11:30:49.023184Z"
    },
    "papermill": {
     "duration": 0.311737,
     "end_time": "2023-04-24T06:22:10.643368",
     "exception": false,
     "start_time": "2023-04-24T06:22:10.331631",
     "status": "completed"
    },
    "tags": [],
    "trusted": true,
    "ExecuteTime": {
     "end_time": "2023-08-04T06:06:32.518140Z",
     "start_time": "2023-08-04T06:06:32.417872Z"
    }
   },
   "outputs": [],
   "source": [
    "proteins = pd.read_csv('train_proteins.csv')\n"
   ]
  },
  {
   "cell_type": "markdown",
   "metadata": {
    "papermill": {
     "duration": 0.007897,
     "end_time": "2023-04-24T06:22:10.659003",
     "exception": false,
     "start_time": "2023-04-24T06:22:10.651106",
     "status": "completed"
    },
    "tags": []
   },
   "source": [
    "## 2.2 Peptides data"
   ]
  },
  {
   "cell_type": "code",
   "execution_count": 36,
   "metadata": {
    "execution": {
     "iopub.execute_input": "2023-07-21T11:30:49.371419Z",
     "iopub.status.busy": "2023-07-21T11:30:49.370940Z",
     "iopub.status.idle": "2023-07-21T11:30:51.032211Z",
     "shell.execute_reply": "2023-07-21T11:30:51.031062Z",
     "shell.execute_reply.started": "2023-07-21T11:30:49.371381Z"
    },
    "papermill": {
     "duration": 1.547196,
     "end_time": "2023-04-24T06:22:12.213937",
     "exception": false,
     "start_time": "2023-04-24T06:22:10.666741",
     "status": "completed"
    },
    "tags": [],
    "trusted": true,
    "ExecuteTime": {
     "end_time": "2023-08-04T06:06:33.199017Z",
     "start_time": "2023-08-04T06:06:32.766372Z"
    }
   },
   "outputs": [],
   "source": [
    "peptides = pd.read_csv('train_peptides.csv')\n"
   ]
  },
  {
   "cell_type": "markdown",
   "metadata": {
    "papermill": {
     "duration": 0.007613,
     "end_time": "2023-04-24T06:22:12.229611",
     "exception": false,
     "start_time": "2023-04-24T06:22:12.221998",
     "status": "completed"
    },
    "tags": []
   },
   "source": [
    "## 2.3 Clinical data"
   ]
  },
  {
   "cell_type": "code",
   "execution_count": 37,
   "metadata": {
    "execution": {
     "iopub.execute_input": "2023-07-21T11:30:51.037252Z",
     "iopub.status.busy": "2023-07-21T11:30:51.036109Z",
     "iopub.status.idle": "2023-07-21T11:30:51.066929Z",
     "shell.execute_reply": "2023-07-21T11:30:51.065693Z",
     "shell.execute_reply.started": "2023-07-21T11:30:51.037206Z"
    },
    "papermill": {
     "duration": 0.040801,
     "end_time": "2023-04-24T06:22:12.27878",
     "exception": false,
     "start_time": "2023-04-24T06:22:12.237979",
     "status": "completed"
    },
    "tags": [],
    "trusted": true,
    "ExecuteTime": {
     "end_time": "2023-08-04T06:06:33.205376Z",
     "start_time": "2023-08-04T06:06:33.199320Z"
    }
   },
   "outputs": [],
   "source": [
    "clinical = pd.read_csv('train_clinical_data.csv')\n"
   ]
  },
  {
   "cell_type": "code",
   "execution_count": 38,
   "metadata": {
    "execution": {
     "iopub.execute_input": "2023-07-21T11:30:51.068634Z",
     "iopub.status.busy": "2023-07-21T11:30:51.068306Z",
     "iopub.status.idle": "2023-07-21T11:30:51.108614Z",
     "shell.execute_reply": "2023-07-21T11:30:51.107645Z",
     "shell.execute_reply.started": "2023-07-21T11:30:51.068605Z"
    },
    "papermill": {
     "duration": 0.049702,
     "end_time": "2023-04-24T06:22:12.336614",
     "exception": false,
     "start_time": "2023-04-24T06:22:12.286912",
     "status": "completed"
    },
    "tags": [],
    "trusted": true,
    "ExecuteTime": {
     "end_time": "2023-08-04T06:06:33.366950Z",
     "start_time": "2023-08-04T06:06:33.360548Z"
    }
   },
   "outputs": [],
   "source": [
    "supplemental_clinical_data = pd.read_csv('supplemental_clinical_data.csv')\n",
    "supplemental_clinical_data = supplemental_clinical_data\n",
    "df_sup= pd.concat([clinical,supplemental_clinical_data]).drop(columns = 'upd23b_clinical_state_on_medication').reset_index(drop=True)"
   ]
  },
  {
   "cell_type": "code",
   "execution_count": 39,
   "metadata": {
    "execution": {
     "iopub.execute_input": "2023-07-21T11:30:51.152396Z",
     "iopub.status.busy": "2023-07-21T11:30:51.151575Z",
     "iopub.status.idle": "2023-07-21T11:30:51.168510Z",
     "shell.execute_reply": "2023-07-21T11:30:51.167189Z",
     "shell.execute_reply.started": "2023-07-21T11:30:51.152350Z"
    },
    "papermill": {
     "duration": 0.026316,
     "end_time": "2023-04-24T06:22:12.525134",
     "exception": false,
     "start_time": "2023-04-24T06:22:12.498818",
     "status": "completed"
    },
    "tags": [],
    "trusted": true,
    "ExecuteTime": {
     "end_time": "2023-08-04T06:06:33.565706Z",
     "start_time": "2023-08-04T06:06:33.562364Z"
    }
   },
   "outputs": [],
   "source": [
    "from sklearn.decomposition import PCA\n",
    "def get_pca_df(df,df_proteins,df_peptides,comp):\n",
    "    df_prot_pept = df_proteins.merge(df_peptides[['visit_id', 'UniProt', 'Peptide','PeptideAbundance']], on = ['visit_id','UniProt'], how = 'left')\n",
    "    df_all = pd.merge(df_prot_pept,df, how = 'left')\n",
    "    # df_all = df_all.drop(columns = 'upd23b_clinical_state_on_medication')\n",
    "\n",
    "    protein_pivot = df_proteins.pivot(index='visit_id',columns = 'UniProt', values = 'NPX').rename_axis(columns=None).reset_index()\n",
    "    peptide_pivot = df_peptides.pivot(index='visit_id',columns = 'Peptide', values = 'PeptideAbundance').rename_axis(columns=None).reset_index()\n",
    "    df_prot_pept = protein_pivot.merge(peptide_pivot, on = ['visit_id'], how = 'left')\n",
    "\n",
    "    df_all = pd.merge(df,df_prot_pept, how = 'left')\n",
    "    # df_all = df_all.drop(columns = 'upd23b_clinical_state_on_medication')\n",
    "    col_df_all = df_prot_pept.drop('visit_id',axis = 1).columns.to_list()\n",
    "    \n",
    "    df_all[col_df_all] = df_all[col_df_all].fillna(0)\n",
    "\n",
    "    pca = PCA(n_components=1)\n",
    "    \n",
    "    principalComponents = pca.fit_transform(df_all[col_df_all])\n",
    "    # print(f'Explained variance for {comp} componed is {pca.explained_variance_ratio_}')\n",
    "    df_pca = pd.DataFrame(principalComponents,columns=['PCA_1'])\n",
    "    for name in ['P16070', 'O15240' , 'LVFFAEDVGSNK']:\n",
    "        col_df_all.remove(name)\n",
    "    drop_columns = df_all[col_df_all].columns.to_list()\n",
    "    df_ = pd.concat([df_all.drop(drop_columns,axis = 1),df_pca],axis=1)\n",
    "\n",
    "    return df_\n"
   ]
  },
  {
   "cell_type": "code",
   "execution_count": 40,
   "metadata": {
    "execution": {
     "iopub.execute_input": "2023-07-21T11:30:51.170686Z",
     "iopub.status.busy": "2023-07-21T11:30:51.170111Z",
     "iopub.status.idle": "2023-07-21T11:31:03.124612Z",
     "shell.execute_reply": "2023-07-21T11:31:03.123046Z",
     "shell.execute_reply.started": "2023-07-21T11:30:51.170652Z"
    },
    "papermill": {
     "duration": 2.494339,
     "end_time": "2023-04-24T06:22:15.029441",
     "exception": false,
     "start_time": "2023-04-24T06:22:12.535102",
     "status": "completed"
    },
    "tags": [],
    "trusted": true,
    "ExecuteTime": {
     "end_time": "2023-08-04T06:06:37.165321Z",
     "start_time": "2023-08-04T06:06:33.762542Z"
    }
   },
   "outputs": [
    {
     "data": {
      "text/plain": "  visit_id  patient_id  visit_month  updrs_1  updrs_2  updrs_3  updrs_4   \n0     55_0          55            0     10.0      6.0     15.0      NaN  \\\n1     55_3          55            3     10.0      7.0     25.0      NaN   \n2     55_6          55            6      8.0     10.0     34.0      NaN   \n3     55_9          55            9      8.0      9.0     30.0      0.0   \n4    55_12          55           12     10.0     10.0     41.0      0.0   \n\n     O15240    P16070  LVFFAEDVGSNK         PCA_1  \n0  177775.0  302429.0       57869.1  3.436546e+08  \n1       0.0       0.0           0.0 -7.328657e+07  \n2  165638.0  302785.0       54670.1  2.970491e+08  \n3       0.0       0.0           0.0 -7.328657e+07  \n4  151073.0  324369.0       64743.5  3.355597e+08  ",
      "text/html": "<div>\n<style scoped>\n    .dataframe tbody tr th:only-of-type {\n        vertical-align: middle;\n    }\n\n    .dataframe tbody tr th {\n        vertical-align: top;\n    }\n\n    .dataframe thead th {\n        text-align: right;\n    }\n</style>\n<table border=\"1\" class=\"dataframe\">\n  <thead>\n    <tr style=\"text-align: right;\">\n      <th></th>\n      <th>visit_id</th>\n      <th>patient_id</th>\n      <th>visit_month</th>\n      <th>updrs_1</th>\n      <th>updrs_2</th>\n      <th>updrs_3</th>\n      <th>updrs_4</th>\n      <th>O15240</th>\n      <th>P16070</th>\n      <th>LVFFAEDVGSNK</th>\n      <th>PCA_1</th>\n    </tr>\n  </thead>\n  <tbody>\n    <tr>\n      <th>0</th>\n      <td>55_0</td>\n      <td>55</td>\n      <td>0</td>\n      <td>10.0</td>\n      <td>6.0</td>\n      <td>15.0</td>\n      <td>NaN</td>\n      <td>177775.0</td>\n      <td>302429.0</td>\n      <td>57869.1</td>\n      <td>3.436546e+08</td>\n    </tr>\n    <tr>\n      <th>1</th>\n      <td>55_3</td>\n      <td>55</td>\n      <td>3</td>\n      <td>10.0</td>\n      <td>7.0</td>\n      <td>25.0</td>\n      <td>NaN</td>\n      <td>0.0</td>\n      <td>0.0</td>\n      <td>0.0</td>\n      <td>-7.328657e+07</td>\n    </tr>\n    <tr>\n      <th>2</th>\n      <td>55_6</td>\n      <td>55</td>\n      <td>6</td>\n      <td>8.0</td>\n      <td>10.0</td>\n      <td>34.0</td>\n      <td>NaN</td>\n      <td>165638.0</td>\n      <td>302785.0</td>\n      <td>54670.1</td>\n      <td>2.970491e+08</td>\n    </tr>\n    <tr>\n      <th>3</th>\n      <td>55_9</td>\n      <td>55</td>\n      <td>9</td>\n      <td>8.0</td>\n      <td>9.0</td>\n      <td>30.0</td>\n      <td>0.0</td>\n      <td>0.0</td>\n      <td>0.0</td>\n      <td>0.0</td>\n      <td>-7.328657e+07</td>\n    </tr>\n    <tr>\n      <th>4</th>\n      <td>55_12</td>\n      <td>55</td>\n      <td>12</td>\n      <td>10.0</td>\n      <td>10.0</td>\n      <td>41.0</td>\n      <td>0.0</td>\n      <td>151073.0</td>\n      <td>324369.0</td>\n      <td>64743.5</td>\n      <td>3.355597e+08</td>\n    </tr>\n  </tbody>\n</table>\n</div>"
     },
     "execution_count": 40,
     "metadata": {},
     "output_type": "execute_result"
    }
   ],
   "source": [
    "df_pca_train = get_pca_df(df_sup,proteins,peptides,1)\n",
    "df_pca_train.head()"
   ]
  },
  {
   "cell_type": "markdown",
   "metadata": {
    "papermill": {
     "duration": 0.009738,
     "end_time": "2023-04-24T06:22:15.146641",
     "exception": false,
     "start_time": "2023-04-24T06:22:15.136903",
     "status": "completed"
    },
    "tags": []
   },
   "source": [
    "# 5. Training"
   ]
  },
  {
   "cell_type": "code",
   "execution_count": 41,
   "metadata": {
    "execution": {
     "iopub.execute_input": "2023-07-21T11:31:03.209262Z",
     "iopub.status.busy": "2023-07-21T11:31:03.208360Z",
     "iopub.status.idle": "2023-07-21T11:31:03.234512Z",
     "shell.execute_reply": "2023-07-21T11:31:03.233200Z",
     "shell.execute_reply.started": "2023-07-21T11:31:03.209227Z"
    },
    "papermill": {
     "duration": 0.039219,
     "end_time": "2023-04-24T06:22:15.242281",
     "exception": false,
     "start_time": "2023-04-24T06:22:15.203062",
     "status": "completed"
    },
    "tags": [],
    "trusted": true,
    "ExecuteTime": {
     "end_time": "2023-08-04T06:06:37.186613Z",
     "start_time": "2023-08-04T06:06:37.170946Z"
    }
   },
   "outputs": [],
   "source": [
    "df_0_1 = df_pca_train[['visit_id','updrs_1','patient_id','visit_month','PCA_1','O15240']].dropna(subset = ['updrs_1']).reset_index(drop=True)\n",
    "df_0_2 = df_pca_train[['visit_id','updrs_2','patient_id','visit_month','PCA_1','O15240']].dropna(subset = ['updrs_2']).reset_index(drop=True)\n",
    "df_0_3 = df_pca_train[['visit_id','updrs_3','patient_id','visit_month','PCA_1','O15240']].dropna(subset = ['updrs_3']).reset_index(drop=True)\n",
    "df_0_3 = df_0_3[df_0_3['updrs_3'] != 0].reset_index(drop=True)\n",
    "df_0_4 = df_pca_train[['visit_id','updrs_4','patient_id','visit_month','PCA_1','O15240']].dropna(subset = ['updrs_4']).reset_index(drop=True)\n",
    "\n",
    "df_lst = [df_0_1, df_0_2, df_0_3, df_0_4]"
   ]
  },
  {
   "cell_type": "code",
   "execution_count": 42,
   "outputs": [],
   "source": [
    "from sklearn.model_selection import GroupKFold\n",
    "import matplotlib.pyplot as plt\n",
    "train_smape_scores_list = []\n",
    "def objective(trial):\n",
    "    \"\"\"\n",
    "    Objective function to be passed to Optuna\n",
    "    It also does Cross-Validation\n",
    "    \"\"\"\n",
    "    param = {\n",
    "        'random_state':42,\n",
    "        'n_estimators': trial.suggest_int('n_estimators',10,300,step=10),\n",
    "        'criterion': trial.suggest_categorical('criterion',choices=['squared_error']),\n",
    "        'max_depth' : trial.suggest_int('max_depth',1,10),\n",
    "        'max_features': trial.suggest_categorical('max_features',choices=['sqrt']),\n",
    "        'max_samples': trial.suggest_float('max_samples',0.2,0.95, step=0.05),\n",
    "        'min_samples_leaf': trial.suggest_int('min_samples_leaf',1,20, step = 3),\n",
    "    }\n",
    "    model_params = param\n",
    "\n",
    "    rf.set_params(**model_params)\n",
    "\n",
    "#     kf = KFold(n_splits = 10, shuffle = True, random_state = 42)\n",
    "\n",
    "    gkf = GroupKFold(n_splits = 18)\n",
    "    groups = train_0['patient_id']\n",
    "    X = train_0.drop([f'updrs_{i+1}'],axis = 1)\n",
    "    y = train_0[f'updrs_{i+1}']\n",
    "    for fold, (train_index, test_index) in enumerate(gkf.split(X, y, groups)):\n",
    "        train_0.loc[test_index, \"kfold\"] = fold\n",
    "        # fold_data = pd.merge(df_visit_id,train_0,on='patient_id')\n",
    "    smape_scores = []\n",
    "    train_smape_scores=[]\n",
    "    metrics_new = []\n",
    "    for fold in range(18):\n",
    "        df_train = train_0[train_0.kfold != fold]\n",
    "        df_valid = train_0[train_0.kfold == fold]\n",
    "        feature_cols = train_0.drop(['visit_id','patient_id','kfold',f'updrs_{i+1}'],axis=1).columns.tolist()\n",
    "\n",
    "        target_cols = [ f'updrs_{i+1}']\n",
    "        X_train = df_train[feature_cols]\n",
    "        y_train = df_train[target_cols].values.ravel()\n",
    "        X_val  = df_valid[feature_cols]\n",
    "        y_val = df_valid[target_cols].values.ravel()\n",
    "        rf.fit(X_train, y_train)\n",
    "        train_smape_score = smape(y_train, np.round(rf.predict(X_train)))\n",
    "        smape_score = smape(y_val, np.round(rf.predict(X_val)))\n",
    "        trainVal_auc = train_smape_score - smape_score\n",
    "\n",
    "        smape_scores.append(smape_score)\n",
    "        train_smape_scores.append(train_smape_score)\n",
    "        train_smape_scores_list.append(train_smape_score)\n",
    "#         metrics_to_improve = smape_score/abs(trainVal_auc)\n",
    "        metrics_new.append(abs(trainVal_auc))\n",
    "#         print(f'train score {(train_smape_score)} , val score {(smape_score)}, difference for score {(abs(trainVal_auc))}')\n",
    "    metrics_Mean_Diff = abs(np.mean(train_smape_scores) - np.mean(smape_scores))\n",
    "\n",
    "    return metrics_Mean_Diff"
   ],
   "metadata": {
    "collapsed": false,
    "ExecuteTime": {
     "end_time": "2023-08-04T06:06:37.280247Z",
     "start_time": "2023-08-04T06:06:37.191933Z"
    }
   }
  },
  {
   "cell_type": "code",
   "execution_count": 43,
   "outputs": [
    {
     "name": "stderr",
     "output_type": "stream",
     "text": [
      "[I 2023-08-04 16:06:37,220] A new study created in memory with name: no-name-35a0dcb7-627d-4ae8-b101-e623e8883a8e\n"
     ]
    },
    {
     "name": "stdout",
     "output_type": "stream",
     "text": [
      "--------------------------------------------------------\n",
      "################# Model 1 #################\n"
     ]
    },
    {
     "name": "stderr",
     "output_type": "stream",
     "text": [
      "[I 2023-08-04 16:06:39,429] Trial 0 finished with value: 0.8365136289260136 and parameters: {'n_estimators': 120, 'criterion': 'squared_error', 'max_depth': 10, 'max_features': 'sqrt', 'max_samples': 0.75, 'min_samples_leaf': 13}. Best is trial 0 with value: 0.8365136289260136.\n",
      "[I 2023-08-04 16:06:39,945] Trial 1 finished with value: 0.11315132323018418 and parameters: {'n_estimators': 50, 'criterion': 'squared_error', 'max_depth': 2, 'max_features': 'sqrt', 'max_samples': 0.2, 'min_samples_leaf': 19}. Best is trial 1 with value: 0.11315132323018418.\n",
      "[I 2023-08-04 16:06:41,925] Trial 2 finished with value: 0.22788399392561587 and parameters: {'n_estimators': 190, 'criterion': 'squared_error', 'max_depth': 8, 'max_features': 'sqrt', 'max_samples': 0.2, 'min_samples_leaf': 19}. Best is trial 1 with value: 0.11315132323018418.\n",
      "[I 2023-08-04 16:06:44,522] Trial 3 finished with value: 0.30325083051207713 and parameters: {'n_estimators': 250, 'criterion': 'squared_error', 'max_depth': 3, 'max_features': 'sqrt', 'max_samples': 0.30000000000000004, 'min_samples_leaf': 4}. Best is trial 1 with value: 0.11315132323018418.\n",
      "[I 2023-08-04 16:06:45,949] Trial 4 finished with value: 0.6631264121326126 and parameters: {'n_estimators': 100, 'criterion': 'squared_error', 'max_depth': 6, 'max_features': 'sqrt', 'max_samples': 0.5, 'min_samples_leaf': 7}. Best is trial 1 with value: 0.11315132323018418.\n",
      "[I 2023-08-04 16:06:47,919] Trial 5 finished with value: 0.1278972582741318 and parameters: {'n_estimators': 190, 'criterion': 'squared_error', 'max_depth': 2, 'max_features': 'sqrt', 'max_samples': 0.4, 'min_samples_leaf': 7}. Best is trial 1 with value: 0.11315132323018418.\n",
      "[I 2023-08-04 16:06:49,756] Trial 6 finished with value: 0.6395297141869634 and parameters: {'n_estimators': 140, 'criterion': 'squared_error', 'max_depth': 8, 'max_features': 'sqrt', 'max_samples': 0.35000000000000003, 'min_samples_leaf': 10}. Best is trial 1 with value: 0.11315132323018418.\n",
      "[I 2023-08-04 16:06:51,625] Trial 7 finished with value: 0.04470478579371928 and parameters: {'n_estimators': 180, 'criterion': 'squared_error', 'max_depth': 1, 'max_features': 'sqrt', 'max_samples': 0.65, 'min_samples_leaf': 4}. Best is trial 7 with value: 0.04470478579371928.\n",
      "[I 2023-08-04 16:06:52,039] Trial 8 finished with value: 0.8192779929359446 and parameters: {'n_estimators': 20, 'criterion': 'squared_error', 'max_depth': 10, 'max_features': 'sqrt', 'max_samples': 0.95, 'min_samples_leaf': 16}. Best is trial 7 with value: 0.04470478579371928.\n",
      "[I 2023-08-04 16:06:53,095] Trial 9 finished with value: 0.05345809863456452 and parameters: {'n_estimators': 100, 'criterion': 'squared_error', 'max_depth': 1, 'max_features': 'sqrt', 'max_samples': 0.7, 'min_samples_leaf': 10}. Best is trial 7 with value: 0.04470478579371928.\n",
      "[I 2023-08-04 16:06:56,912] Trial 10 finished with value: 0.378177146491538 and parameters: {'n_estimators': 290, 'criterion': 'squared_error', 'max_depth': 4, 'max_features': 'sqrt', 'max_samples': 0.65, 'min_samples_leaf': 1}. Best is trial 7 with value: 0.04470478579371928.\n",
      "[I 2023-08-04 16:06:57,703] Trial 11 finished with value: 0.05211915941960399 and parameters: {'n_estimators': 70, 'criterion': 'squared_error', 'max_depth': 1, 'max_features': 'sqrt', 'max_samples': 0.8, 'min_samples_leaf': 1}. Best is trial 7 with value: 0.04470478579371928.\n",
      "[I 2023-08-04 16:06:59,767] Trial 12 finished with value: 0.06562398350713039 and parameters: {'n_estimators': 190, 'criterion': 'squared_error', 'max_depth': 1, 'max_features': 'sqrt', 'max_samples': 0.8500000000000001, 'min_samples_leaf': 1}. Best is trial 7 with value: 0.04470478579371928.\n",
      "[I 2023-08-04 16:07:00,639] Trial 13 finished with value: 0.5300523812267244 and parameters: {'n_estimators': 60, 'criterion': 'squared_error', 'max_depth': 5, 'max_features': 'sqrt', 'max_samples': 0.55, 'min_samples_leaf': 4}. Best is trial 7 with value: 0.04470478579371928.\n",
      "[I 2023-08-04 16:07:03,856] Trial 14 finished with value: 0.3316408205203345 and parameters: {'n_estimators': 250, 'criterion': 'squared_error', 'max_depth': 3, 'max_features': 'sqrt', 'max_samples': 0.8, 'min_samples_leaf': 4}. Best is trial 7 with value: 0.04470478579371928.\n",
      "[I 2023-08-04 16:07:05,665] Trial 15 finished with value: 0.04929901295940198 and parameters: {'n_estimators': 160, 'criterion': 'squared_error', 'max_depth': 1, 'max_features': 'sqrt', 'max_samples': 0.95, 'min_samples_leaf': 1}. Best is trial 7 with value: 0.04470478579371928.\n",
      "[I 2023-08-04 16:07:08,530] Trial 16 finished with value: 0.8215689827621588 and parameters: {'n_estimators': 170, 'criterion': 'squared_error', 'max_depth': 6, 'max_features': 'sqrt', 'max_samples': 0.95, 'min_samples_leaf': 7}. Best is trial 7 with value: 0.04470478579371928.\n",
      "[I 2023-08-04 16:07:11,477] Trial 17 finished with value: 0.29764750443792565 and parameters: {'n_estimators': 240, 'criterion': 'squared_error', 'max_depth': 3, 'max_features': 'sqrt', 'max_samples': 0.65, 'min_samples_leaf': 4}. Best is trial 7 with value: 0.04470478579371928.\n",
      "[I 2023-08-04 16:07:14,235] Trial 18 finished with value: 0.38256013874521955 and parameters: {'n_estimators': 220, 'criterion': 'squared_error', 'max_depth': 4, 'max_features': 'sqrt', 'max_samples': 0.5, 'min_samples_leaf': 1}. Best is trial 7 with value: 0.04470478579371928.\n",
      "[I 2023-08-04 16:07:16,072] Trial 19 finished with value: 0.12533206682648057 and parameters: {'n_estimators': 150, 'criterion': 'squared_error', 'max_depth': 2, 'max_features': 'sqrt', 'max_samples': 0.9000000000000001, 'min_samples_leaf': 10}. Best is trial 7 with value: 0.04470478579371928.\n",
      "[I 2023-08-04 16:07:20,591] Trial 20 finished with value: 0.8362231019442135 and parameters: {'n_estimators': 300, 'criterion': 'squared_error', 'max_depth': 7, 'max_features': 'sqrt', 'max_samples': 0.6000000000000001, 'min_samples_leaf': 7}. Best is trial 7 with value: 0.04470478579371928.\n",
      "[I 2023-08-04 16:07:21,381] Trial 21 finished with value: 0.05211915941960399 and parameters: {'n_estimators': 70, 'criterion': 'squared_error', 'max_depth': 1, 'max_features': 'sqrt', 'max_samples': 0.8, 'min_samples_leaf': 1}. Best is trial 7 with value: 0.04470478579371928.\n",
      "[I 2023-08-04 16:07:21,559] Trial 22 finished with value: 0.020215247110520806 and parameters: {'n_estimators': 10, 'criterion': 'squared_error', 'max_depth': 1, 'max_features': 'sqrt', 'max_samples': 0.8500000000000001, 'min_samples_leaf': 1}. Best is trial 22 with value: 0.020215247110520806.\n",
      "[I 2023-08-04 16:07:21,756] Trial 23 finished with value: 0.096716054567068 and parameters: {'n_estimators': 10, 'criterion': 'squared_error', 'max_depth': 2, 'max_features': 'sqrt', 'max_samples': 0.9000000000000001, 'min_samples_leaf': 4}. Best is trial 22 with value: 0.020215247110520806.\n",
      "[I 2023-08-04 16:07:23,669] Trial 24 finished with value: 0.43965027260515654 and parameters: {'n_estimators': 130, 'criterion': 'squared_error', 'max_depth': 4, 'max_features': 'sqrt', 'max_samples': 0.8500000000000001, 'min_samples_leaf': 1}. Best is trial 22 with value: 0.020215247110520806.\n",
      "[I 2023-08-04 16:07:25,451] Trial 25 finished with value: 0.06161322607331954 and parameters: {'n_estimators': 170, 'criterion': 'squared_error', 'max_depth': 1, 'max_features': 'sqrt', 'max_samples': 0.7, 'min_samples_leaf': 4}. Best is trial 22 with value: 0.020215247110520806.\n",
      "[I 2023-08-04 16:07:28,135] Trial 26 finished with value: 0.16222648938317974 and parameters: {'n_estimators': 220, 'criterion': 'squared_error', 'max_depth': 2, 'max_features': 'sqrt', 'max_samples': 0.95, 'min_samples_leaf': 1}. Best is trial 22 with value: 0.020215247110520806.\n",
      "[I 2023-08-04 16:07:29,493] Trial 27 finished with value: 0.26674879577530675 and parameters: {'n_estimators': 100, 'criterion': 'squared_error', 'max_depth': 3, 'max_features': 'sqrt', 'max_samples': 0.8500000000000001, 'min_samples_leaf': 13}. Best is trial 22 with value: 0.020215247110520806.\n",
      "[I 2023-08-04 16:07:31,291] Trial 28 finished with value: 0.05925464523419777 and parameters: {'n_estimators': 170, 'criterion': 'squared_error', 'max_depth': 1, 'max_features': 'sqrt', 'max_samples': 0.75, 'min_samples_leaf': 4}. Best is trial 22 with value: 0.020215247110520806.\n",
      "[I 2023-08-04 16:07:33,079] Trial 29 finished with value: 0.49345585408159565 and parameters: {'n_estimators': 120, 'criterion': 'squared_error', 'max_depth': 5, 'max_features': 'sqrt', 'max_samples': 0.75, 'min_samples_leaf': 13}. Best is trial 22 with value: 0.020215247110520806.\n",
      "[I 2023-08-04 16:07:33,884] Trial 30 finished with value: 1.437385480959101 and parameters: {'n_estimators': 40, 'criterion': 'squared_error', 'max_depth': 10, 'max_features': 'sqrt', 'max_samples': 0.9000000000000001, 'min_samples_leaf': 7}. Best is trial 22 with value: 0.020215247110520806.\n",
      "[I 2023-08-04 16:07:34,787] Trial 31 finished with value: 0.05918329468904915 and parameters: {'n_estimators': 80, 'criterion': 'squared_error', 'max_depth': 1, 'max_features': 'sqrt', 'max_samples': 0.8, 'min_samples_leaf': 1}. Best is trial 22 with value: 0.020215247110520806.\n",
      "[I 2023-08-04 16:07:35,314] Trial 32 finished with value: 0.15064064529742183 and parameters: {'n_estimators': 40, 'criterion': 'squared_error', 'max_depth': 2, 'max_features': 'sqrt', 'max_samples': 0.7, 'min_samples_leaf': 1}. Best is trial 22 with value: 0.020215247110520806.\n",
      "[I 2023-08-04 16:07:35,700] Trial 33 finished with value: 0.05765032186900498 and parameters: {'n_estimators': 30, 'criterion': 'squared_error', 'max_depth': 1, 'max_features': 'sqrt', 'max_samples': 0.8500000000000001, 'min_samples_leaf': 1}. Best is trial 22 with value: 0.020215247110520806.\n",
      "[I 2023-08-04 16:07:36,705] Trial 34 finished with value: 0.13051346508866146 and parameters: {'n_estimators': 80, 'criterion': 'squared_error', 'max_depth': 2, 'max_features': 'sqrt', 'max_samples': 0.8, 'min_samples_leaf': 4}. Best is trial 22 with value: 0.020215247110520806.\n",
      "[I 2023-08-04 16:07:38,342] Trial 35 finished with value: 0.3032148527848477 and parameters: {'n_estimators': 120, 'criterion': 'squared_error', 'max_depth': 3, 'max_features': 'sqrt', 'max_samples': 0.9000000000000001, 'min_samples_leaf': 1}. Best is trial 22 with value: 0.020215247110520806.\n",
      "[I 2023-08-04 16:07:40,717] Trial 36 finished with value: 0.13551965944481026 and parameters: {'n_estimators': 210, 'criterion': 'squared_error', 'max_depth': 2, 'max_features': 'sqrt', 'max_samples': 0.65, 'min_samples_leaf': 4}. Best is trial 22 with value: 0.020215247110520806.\n",
      "[I 2023-08-04 16:07:40,886] Trial 37 finished with value: 0.08007608464210847 and parameters: {'n_estimators': 10, 'criterion': 'squared_error', 'max_depth': 1, 'max_features': 'sqrt', 'max_samples': 0.45, 'min_samples_leaf': 19}. Best is trial 22 with value: 0.020215247110520806.\n",
      "[I 2023-08-04 16:07:43,288] Trial 38 finished with value: 1.125593464306121 and parameters: {'n_estimators': 150, 'criterion': 'squared_error', 'max_depth': 9, 'max_features': 'sqrt', 'max_samples': 0.6000000000000001, 'min_samples_leaf': 7}. Best is trial 22 with value: 0.020215247110520806.\n",
      "[I 2023-08-04 16:07:45,404] Trial 39 finished with value: 0.17640827624231292 and parameters: {'n_estimators': 180, 'criterion': 'squared_error', 'max_depth': 2, 'max_features': 'sqrt', 'max_samples': 0.75, 'min_samples_leaf': 16}. Best is trial 22 with value: 0.020215247110520806.\n",
      "[I 2023-08-04 16:07:46,144] Trial 40 finished with value: 0.3317179315250982 and parameters: {'n_estimators': 50, 'criterion': 'squared_error', 'max_depth': 3, 'max_features': 'sqrt', 'max_samples': 0.95, 'min_samples_leaf': 1}. Best is trial 22 with value: 0.020215247110520806.\n",
      "[I 2023-08-04 16:07:46,938] Trial 41 finished with value: 0.05211915941960399 and parameters: {'n_estimators': 70, 'criterion': 'squared_error', 'max_depth': 1, 'max_features': 'sqrt', 'max_samples': 0.8, 'min_samples_leaf': 1}. Best is trial 22 with value: 0.020215247110520806.\n",
      "[I 2023-08-04 16:07:48,154] Trial 42 finished with value: 0.06186520145881502 and parameters: {'n_estimators': 110, 'criterion': 'squared_error', 'max_depth': 1, 'max_features': 'sqrt', 'max_samples': 0.8500000000000001, 'min_samples_leaf': 1}. Best is trial 22 with value: 0.020215247110520806.\n",
      "[I 2023-08-04 16:07:49,030] Trial 43 finished with value: 0.049442855700910116 and parameters: {'n_estimators': 80, 'criterion': 'squared_error', 'max_depth': 1, 'max_features': 'sqrt', 'max_samples': 0.7, 'min_samples_leaf': 4}. Best is trial 22 with value: 0.020215247110520806.\n",
      "[I 2023-08-04 16:07:50,109] Trial 44 finished with value: 0.13180648745342438 and parameters: {'n_estimators': 90, 'criterion': 'squared_error', 'max_depth': 2, 'max_features': 'sqrt', 'max_samples': 0.7, 'min_samples_leaf': 4}. Best is trial 22 with value: 0.020215247110520806.\n",
      "[I 2023-08-04 16:07:51,392] Trial 45 finished with value: 0.058769270120180295 and parameters: {'n_estimators': 140, 'criterion': 'squared_error', 'max_depth': 1, 'max_features': 'sqrt', 'max_samples': 0.25, 'min_samples_leaf': 7}. Best is trial 22 with value: 0.020215247110520806.\n",
      "[I 2023-08-04 16:07:53,667] Trial 46 finished with value: 0.14627192831954972 and parameters: {'n_estimators': 200, 'criterion': 'squared_error', 'max_depth': 2, 'max_features': 'sqrt', 'max_samples': 0.65, 'min_samples_leaf': 4}. Best is trial 22 with value: 0.020215247110520806.\n",
      "[I 2023-08-04 16:07:54,096] Trial 47 finished with value: 0.2973027194910003 and parameters: {'n_estimators': 30, 'criterion': 'squared_error', 'max_depth': 3, 'max_features': 'sqrt', 'max_samples': 0.55, 'min_samples_leaf': 4}. Best is trial 22 with value: 0.020215247110520806.\n",
      "[I 2023-08-04 16:07:55,795] Trial 48 finished with value: 0.05201269586714119 and parameters: {'n_estimators': 160, 'criterion': 'squared_error', 'max_depth': 1, 'max_features': 'sqrt', 'max_samples': 0.75, 'min_samples_leaf': 4}. Best is trial 22 with value: 0.020215247110520806.\n",
      "[I 2023-08-04 16:07:57,605] Trial 49 finished with value: 0.1393382242869663 and parameters: {'n_estimators': 160, 'criterion': 'squared_error', 'max_depth': 2, 'max_features': 'sqrt', 'max_samples': 0.6000000000000001, 'min_samples_leaf': 7}. Best is trial 22 with value: 0.020215247110520806.\n",
      "[I 2023-08-04 16:07:59,955] Trial 50 finished with value: 1.1329622912550903 and parameters: {'n_estimators': 140, 'criterion': 'squared_error', 'max_depth': 7, 'max_features': 'sqrt', 'max_samples': 0.75, 'min_samples_leaf': 4}. Best is trial 22 with value: 0.020215247110520806.\n",
      "[I 2023-08-04 16:08:01,832] Trial 51 finished with value: 0.06347726790747288 and parameters: {'n_estimators': 180, 'criterion': 'squared_error', 'max_depth': 1, 'max_features': 'sqrt', 'max_samples': 0.7, 'min_samples_leaf': 1}. Best is trial 22 with value: 0.020215247110520806.\n",
      "[I 2023-08-04 16:08:03,531] Trial 52 finished with value: 0.04874708547531981 and parameters: {'n_estimators': 160, 'criterion': 'squared_error', 'max_depth': 1, 'max_features': 'sqrt', 'max_samples': 0.75, 'min_samples_leaf': 10}. Best is trial 22 with value: 0.020215247110520806.\n",
      "[I 2023-08-04 16:08:05,629] Trial 53 finished with value: 0.05843044701586564 and parameters: {'n_estimators': 200, 'criterion': 'squared_error', 'max_depth': 1, 'max_features': 'sqrt', 'max_samples': 0.75, 'min_samples_leaf': 10}. Best is trial 22 with value: 0.020215247110520806.\n",
      "[I 2023-08-04 16:08:07,291] Trial 54 finished with value: 0.0606854831405883 and parameters: {'n_estimators': 160, 'criterion': 'squared_error', 'max_depth': 1, 'max_features': 'sqrt', 'max_samples': 0.65, 'min_samples_leaf': 16}. Best is trial 22 with value: 0.020215247110520806.\n",
      "[I 2023-08-04 16:08:08,901] Trial 55 finished with value: 0.12076752753962694 and parameters: {'n_estimators': 130, 'criterion': 'squared_error', 'max_depth': 2, 'max_features': 'sqrt', 'max_samples': 0.9000000000000001, 'min_samples_leaf': 7}. Best is trial 22 with value: 0.020215247110520806.\n",
      "[I 2023-08-04 16:08:10,774] Trial 56 finished with value: 0.06520741381473982 and parameters: {'n_estimators': 180, 'criterion': 'squared_error', 'max_depth': 1, 'max_features': 'sqrt', 'max_samples': 0.7, 'min_samples_leaf': 10}. Best is trial 22 with value: 0.020215247110520806.\n",
      "[I 2023-08-04 16:08:12,834] Trial 57 finished with value: 0.28158508712513 and parameters: {'n_estimators': 150, 'criterion': 'squared_error', 'max_depth': 3, 'max_features': 'sqrt', 'max_samples': 0.95, 'min_samples_leaf': 4}. Best is trial 22 with value: 0.020215247110520806.\n",
      "[I 2023-08-04 16:08:14,885] Trial 58 finished with value: 0.061093051518383845 and parameters: {'n_estimators': 190, 'criterion': 'squared_error', 'max_depth': 1, 'max_features': 'sqrt', 'max_samples': 0.8, 'min_samples_leaf': 10}. Best is trial 22 with value: 0.020215247110520806.\n",
      "[I 2023-08-04 16:08:17,812] Trial 59 finished with value: 0.3905992827688607 and parameters: {'n_estimators': 230, 'criterion': 'squared_error', 'max_depth': 4, 'max_features': 'sqrt', 'max_samples': 0.55, 'min_samples_leaf': 7}. Best is trial 22 with value: 0.020215247110520806.\n",
      "[I 2023-08-04 16:08:19,370] Trial 60 finished with value: 0.13444573821806216 and parameters: {'n_estimators': 130, 'criterion': 'squared_error', 'max_depth': 2, 'max_features': 'sqrt', 'max_samples': 0.75, 'min_samples_leaf': 4}. Best is trial 22 with value: 0.020215247110520806.\n",
      "[I 2023-08-04 16:08:22,234] Trial 61 finished with value: 0.056425541220050945 and parameters: {'n_estimators': 270, 'criterion': 'squared_error', 'max_depth': 1, 'max_features': 'sqrt', 'max_samples': 0.8500000000000001, 'min_samples_leaf': 1}. Best is trial 22 with value: 0.020215247110520806.\n",
      "[I 2023-08-04 16:08:24,144] Trial 62 finished with value: 0.13309006824809444 and parameters: {'n_estimators': 160, 'criterion': 'squared_error', 'max_depth': 2, 'max_features': 'sqrt', 'max_samples': 0.8, 'min_samples_leaf': 1}. Best is trial 22 with value: 0.020215247110520806.\n",
      "[I 2023-08-04 16:08:24,823] Trial 63 finished with value: 0.066820089728445 and parameters: {'n_estimators': 60, 'criterion': 'squared_error', 'max_depth': 1, 'max_features': 'sqrt', 'max_samples': 0.7, 'min_samples_leaf': 4}. Best is trial 22 with value: 0.020215247110520806.\n",
      "[I 2023-08-04 16:08:25,998] Trial 64 finished with value: 0.05679434951569817 and parameters: {'n_estimators': 110, 'criterion': 'squared_error', 'max_depth': 1, 'max_features': 'sqrt', 'max_samples': 0.65, 'min_samples_leaf': 1}. Best is trial 22 with value: 0.020215247110520806.\n",
      "[I 2023-08-04 16:08:27,833] Trial 65 finished with value: 0.06357623113503053 and parameters: {'n_estimators': 170, 'criterion': 'squared_error', 'max_depth': 1, 'max_features': 'sqrt', 'max_samples': 0.8500000000000001, 'min_samples_leaf': 4}. Best is trial 22 with value: 0.020215247110520806.\n",
      "[I 2023-08-04 16:08:28,135] Trial 66 finished with value: 0.1577032922535082 and parameters: {'n_estimators': 20, 'criterion': 'squared_error', 'max_depth': 2, 'max_features': 'sqrt', 'max_samples': 0.75, 'min_samples_leaf': 1}. Best is trial 22 with value: 0.020215247110520806.\n",
      "[I 2023-08-04 16:08:31,224] Trial 67 finished with value: 0.5059547075095523 and parameters: {'n_estimators': 200, 'criterion': 'squared_error', 'max_depth': 5, 'max_features': 'sqrt', 'max_samples': 0.9000000000000001, 'min_samples_leaf': 13}. Best is trial 22 with value: 0.020215247110520806.\n",
      "[I 2023-08-04 16:08:32,748] Trial 68 finished with value: 0.053967267348951964 and parameters: {'n_estimators': 140, 'criterion': 'squared_error', 'max_depth': 1, 'max_features': 'sqrt', 'max_samples': 0.8, 'min_samples_leaf': 4}. Best is trial 22 with value: 0.020215247110520806.\n",
      "[I 2023-08-04 16:08:34,840] Trial 69 finished with value: 0.1559312779496338 and parameters: {'n_estimators': 180, 'criterion': 'squared_error', 'max_depth': 2, 'max_features': 'sqrt', 'max_samples': 0.7, 'min_samples_leaf': 1}. Best is trial 22 with value: 0.020215247110520806.\n",
      "[I 2023-08-04 16:08:35,468] Trial 70 finished with value: 0.15136115714558684 and parameters: {'n_estimators': 50, 'criterion': 'squared_error', 'max_depth': 2, 'max_features': 'sqrt', 'max_samples': 0.6000000000000001, 'min_samples_leaf': 7}. Best is trial 22 with value: 0.020215247110520806.\n",
      "[I 2023-08-04 16:08:36,371] Trial 71 finished with value: 0.05918329468904915 and parameters: {'n_estimators': 80, 'criterion': 'squared_error', 'max_depth': 1, 'max_features': 'sqrt', 'max_samples': 0.8, 'min_samples_leaf': 1}. Best is trial 22 with value: 0.020215247110520806.\n",
      "[I 2023-08-04 16:08:37,361] Trial 72 finished with value: 0.057651735289312 and parameters: {'n_estimators': 90, 'criterion': 'squared_error', 'max_depth': 1, 'max_features': 'sqrt', 'max_samples': 0.75, 'min_samples_leaf': 1}. Best is trial 22 with value: 0.020215247110520806.\n",
      "[I 2023-08-04 16:08:38,058] Trial 73 finished with value: 0.05643333951167051 and parameters: {'n_estimators': 60, 'criterion': 'squared_error', 'max_depth': 1, 'max_features': 'sqrt', 'max_samples': 0.8500000000000001, 'min_samples_leaf': 1}. Best is trial 22 with value: 0.020215247110520806.\n",
      "[I 2023-08-04 16:08:38,851] Trial 74 finished with value: 0.062018630364669036 and parameters: {'n_estimators': 70, 'criterion': 'squared_error', 'max_depth': 1, 'max_features': 'sqrt', 'max_samples': 0.8, 'min_samples_leaf': 4}. Best is trial 22 with value: 0.020215247110520806.\n",
      "[I 2023-08-04 16:08:40,696] Trial 75 finished with value: 0.13155827588489188 and parameters: {'n_estimators': 150, 'criterion': 'squared_error', 'max_depth': 2, 'max_features': 'sqrt', 'max_samples': 0.9000000000000001, 'min_samples_leaf': 1}. Best is trial 22 with value: 0.020215247110520806.\n",
      "[I 2023-08-04 16:08:41,930] Trial 76 finished with value: 0.04623788271593554 and parameters: {'n_estimators': 110, 'criterion': 'squared_error', 'max_depth': 1, 'max_features': 'sqrt', 'max_samples': 0.95, 'min_samples_leaf': 1}. Best is trial 22 with value: 0.020215247110520806.\n",
      "[I 2023-08-04 16:08:43,165] Trial 77 finished with value: 0.04098714460941011 and parameters: {'n_estimators': 110, 'criterion': 'squared_error', 'max_depth': 1, 'max_features': 'sqrt', 'max_samples': 0.95, 'min_samples_leaf': 4}. Best is trial 22 with value: 0.020215247110520806.\n",
      "[I 2023-08-04 16:08:45,162] Trial 78 finished with value: 1.2183734860798836 and parameters: {'n_estimators': 110, 'criterion': 'squared_error', 'max_depth': 7, 'max_features': 'sqrt', 'max_samples': 0.95, 'min_samples_leaf': 4}. Best is trial 22 with value: 0.020215247110520806.\n",
      "[I 2023-08-04 16:08:47,024] Trial 79 finished with value: 0.05509358219433125 and parameters: {'n_estimators': 170, 'criterion': 'squared_error', 'max_depth': 1, 'max_features': 'sqrt', 'max_samples': 0.95, 'min_samples_leaf': 19}. Best is trial 22 with value: 0.020215247110520806.\n",
      "[I 2023-08-04 16:08:48,530] Trial 80 finished with value: 0.14475173300743904 and parameters: {'n_estimators': 120, 'criterion': 'squared_error', 'max_depth': 2, 'max_features': 'sqrt', 'max_samples': 0.95, 'min_samples_leaf': 4}. Best is trial 22 with value: 0.020215247110520806.\n",
      "[I 2023-08-04 16:08:49,656] Trial 81 finished with value: 0.053924844422795104 and parameters: {'n_estimators': 100, 'criterion': 'squared_error', 'max_depth': 1, 'max_features': 'sqrt', 'max_samples': 0.9000000000000001, 'min_samples_leaf': 1}. Best is trial 22 with value: 0.020215247110520806.\n",
      "[I 2023-08-04 16:08:50,677] Trial 82 finished with value: 0.051297551206495484 and parameters: {'n_estimators': 90, 'criterion': 'squared_error', 'max_depth': 1, 'max_features': 'sqrt', 'max_samples': 0.9000000000000001, 'min_samples_leaf': 1}. Best is trial 22 with value: 0.020215247110520806.\n",
      "[I 2023-08-04 16:08:51,707] Trial 83 finished with value: 0.04640048424025167 and parameters: {'n_estimators': 90, 'criterion': 'squared_error', 'max_depth': 1, 'max_features': 'sqrt', 'max_samples': 0.95, 'min_samples_leaf': 1}. Best is trial 22 with value: 0.020215247110520806.\n",
      "[I 2023-08-04 16:08:52,731] Trial 84 finished with value: 0.051297551206495484 and parameters: {'n_estimators': 90, 'criterion': 'squared_error', 'max_depth': 1, 'max_features': 'sqrt', 'max_samples': 0.9000000000000001, 'min_samples_leaf': 1}. Best is trial 22 with value: 0.020215247110520806.\n",
      "[I 2023-08-04 16:08:54,008] Trial 85 finished with value: 0.13764040276698353 and parameters: {'n_estimators': 100, 'criterion': 'squared_error', 'max_depth': 2, 'max_features': 'sqrt', 'max_samples': 0.95, 'min_samples_leaf': 1}. Best is trial 22 with value: 0.020215247110520806.\n",
      "[I 2023-08-04 16:08:54,949] Trial 86 finished with value: 0.04393442750384935 and parameters: {'n_estimators': 80, 'criterion': 'squared_error', 'max_depth': 1, 'max_features': 'sqrt', 'max_samples': 0.95, 'min_samples_leaf': 16}. Best is trial 22 with value: 0.020215247110520806.\n",
      "[I 2023-08-04 16:08:56,938] Trial 87 finished with value: 0.6048528622585678 and parameters: {'n_estimators': 120, 'criterion': 'squared_error', 'max_depth': 6, 'max_features': 'sqrt', 'max_samples': 0.95, 'min_samples_leaf': 16}. Best is trial 22 with value: 0.020215247110520806.\n",
      "[I 2023-08-04 16:08:57,859] Trial 88 finished with value: 0.04477897678820142 and parameters: {'n_estimators': 80, 'criterion': 'squared_error', 'max_depth': 1, 'max_features': 'sqrt', 'max_samples': 0.95, 'min_samples_leaf': 13}. Best is trial 22 with value: 0.020215247110520806.\n",
      "[I 2023-08-04 16:08:59,101] Trial 89 finished with value: 0.04362419988595434 and parameters: {'n_estimators': 110, 'criterion': 'squared_error', 'max_depth': 1, 'max_features': 'sqrt', 'max_samples': 0.95, 'min_samples_leaf': 13}. Best is trial 22 with value: 0.020215247110520806.\n",
      "[I 2023-08-04 16:09:00,331] Trial 90 finished with value: 0.04362419988595434 and parameters: {'n_estimators': 110, 'criterion': 'squared_error', 'max_depth': 1, 'max_features': 'sqrt', 'max_samples': 0.95, 'min_samples_leaf': 13}. Best is trial 22 with value: 0.020215247110520806.\n",
      "[I 2023-08-04 16:09:01,464] Trial 91 finished with value: 0.04160298799972395 and parameters: {'n_estimators': 100, 'criterion': 'squared_error', 'max_depth': 1, 'max_features': 'sqrt', 'max_samples': 0.95, 'min_samples_leaf': 13}. Best is trial 22 with value: 0.020215247110520806.\n",
      "[I 2023-08-04 16:09:02,600] Trial 92 finished with value: 0.04160298799972395 and parameters: {'n_estimators': 100, 'criterion': 'squared_error', 'max_depth': 1, 'max_features': 'sqrt', 'max_samples': 0.95, 'min_samples_leaf': 13}. Best is trial 22 with value: 0.020215247110520806.\n",
      "[I 2023-08-04 16:09:03,777] Trial 93 finished with value: 0.1865282795256178 and parameters: {'n_estimators': 110, 'criterion': 'squared_error', 'max_depth': 2, 'max_features': 'sqrt', 'max_samples': 0.35000000000000003, 'min_samples_leaf': 13}. Best is trial 22 with value: 0.020215247110520806.\n",
      "[I 2023-08-04 16:09:04,920] Trial 94 finished with value: 0.04160298799972395 and parameters: {'n_estimators': 100, 'criterion': 'squared_error', 'max_depth': 1, 'max_features': 'sqrt', 'max_samples': 0.95, 'min_samples_leaf': 13}. Best is trial 22 with value: 0.020215247110520806.\n",
      "[I 2023-08-04 16:09:06,058] Trial 95 finished with value: 0.050630349352594806 and parameters: {'n_estimators': 100, 'criterion': 'squared_error', 'max_depth': 1, 'max_features': 'sqrt', 'max_samples': 0.9000000000000001, 'min_samples_leaf': 13}. Best is trial 22 with value: 0.020215247110520806.\n",
      "[I 2023-08-04 16:09:07,712] Trial 96 finished with value: 0.15191615538547154 and parameters: {'n_estimators': 130, 'criterion': 'squared_error', 'max_depth': 2, 'max_features': 'sqrt', 'max_samples': 0.95, 'min_samples_leaf': 13}. Best is trial 22 with value: 0.020215247110520806.\n",
      "[I 2023-08-04 16:09:08,637] Trial 97 finished with value: 0.04813768827529685 and parameters: {'n_estimators': 80, 'criterion': 'squared_error', 'max_depth': 1, 'max_features': 'sqrt', 'max_samples': 0.9000000000000001, 'min_samples_leaf': 13}. Best is trial 22 with value: 0.020215247110520806.\n",
      "[I 2023-08-04 16:09:10,448] Trial 98 finished with value: 0.9614183692531313 and parameters: {'n_estimators': 100, 'criterion': 'squared_error', 'max_depth': 9, 'max_features': 'sqrt', 'max_samples': 0.95, 'min_samples_leaf': 13}. Best is trial 22 with value: 0.020215247110520806.\n",
      "[I 2023-08-04 16:09:11,262] Trial 99 finished with value: 0.04709675993753848 and parameters: {'n_estimators': 70, 'criterion': 'squared_error', 'max_depth': 1, 'max_features': 'sqrt', 'max_samples': 0.9000000000000001, 'min_samples_leaf': 16}. Best is trial 22 with value: 0.020215247110520806.\n"
     ]
    },
    {
     "name": "stdout",
     "output_type": "stream",
     "text": [
      "SMAPE AVEGARE FOR ALL IS 49.24912393538362\n",
      "VAL SMAPE AVEGARE FOR 51 patients IS 97.28051577450842\n"
     ]
    }
   ],
   "source": [
    "import optuna\n",
    "from sklearn.linear_model import LinearRegression\n",
    "from sklearn.ensemble import RandomForestRegressor\n",
    "model = {}\n",
    "# mms_store = {}\n",
    "# mms = MinMaxScaler()\n",
    "\n",
    "smape_avg=[]\n",
    "val_smape = []\n",
    "\n",
    "def smape_plus_one(y_true, y_pred):\n",
    "    epsilon = 1e-10\n",
    "    denominator = np.abs(y_true) + np.abs(y_pred) + epsilon\n",
    "    diff = np.abs(y_true - y_pred) / denominator\n",
    "    smape = 2.0 * np.mean(diff)\n",
    "    smape_plus_one = smape + 1.0\n",
    "    return smape_plus_one\n",
    "X_test_list = []\n",
    "X_train_list = []\n",
    "y_test_list = []\n",
    "y_train_list = []\n",
    "for i in range(3):\n",
    "    print('--------------------------------------------------------')\n",
    "    print( \"#\" * 17, \"Model\",  i + 1, \"#\" * 17)\n",
    "\n",
    "    train_0 = df_lst[i]\n",
    "\n",
    "    # scale_col = ['NPX_mean','NPX_median', 'Abe_mean', 'Abe_median']\n",
    "    # train_0[scale_col] = mms.fit_transform(train_0[scale_col])\n",
    "\n",
    "    rf = RandomForestRegressor(random_state=42,criterion=smape_plus_one)\n",
    "    # rf = xgb.XGBRegressor(random_state= 42)\n",
    "    # lr = LinearRegression()\n",
    "\n",
    "\n",
    "    # Bayesian Optimization\n",
    "    study = optuna.create_study(direction = 'minimize',sampler = optuna.samplers.TPESampler(seed=42))\n",
    "    study.optimize(objective, n_trials = 100)\n",
    "\n",
    "    # Best hyperparameters\n",
    "    best_params = study.best_params\n",
    "    rf.set_params(**best_params)\n",
    "    X_all = train_0.drop(columns = ['visit_id','patient_id',f'updrs_{i+1}','kfold'])\n",
    "    # X = train_0[['visit_month']+ scale_col]\n",
    "    y_all = train_0[f'updrs_{i+1}']\n",
    "\n",
    "    total_rows = X_all.shape[0]\n",
    "\n",
    "    split_index = int(3/4 * total_rows)\n",
    "    X = X_all.iloc[:split_index]\n",
    "    X_test = X_all.iloc[split_index:]\n",
    "    X_test_list.append(X_test)\n",
    "    X_train_list.append(X)\n",
    "    y = y_all.iloc[:split_index]\n",
    "    y_test = y_all.iloc[split_index:]\n",
    "    y_test_list.append(y_test)\n",
    "    y_train_list.append(y)\n",
    "\n",
    "    Val = train_0[train_0['kfold']==1]\n",
    "    X_val = Val.drop(columns = ['visit_id','patient_id',f'updrs_{i+1}','kfold'])\n",
    "    y_val = Val[f'updrs_{i+1}']\n",
    "\n",
    "\n",
    "    rf.fit(X, y)\n",
    "    smape_avg.append(smape(y, np.round(rf.predict(X))))\n",
    "    val_smape.append(smape(y_val, np.round(rf.predict(X_val))))\n",
    "    # print(f\"Train smape: {(smape(y, np.round(rf.predict(X))))}\")\n",
    "    # print(f\"Validation smape on {Val['patient_id'].nunique()} patients: {(smape(y_val, np.round(rf.predict(X_val))))}\")\n",
    "    # print( \"#\"  * 45)\n",
    "\n",
    "    model[i] = rf\n",
    "    # mms_store[i] = mms\n",
    "smape_avg.append(41.93)\n",
    "val_smape.append(smape(y, np.zeros(y.shape[0])))\n",
    "print(f\"SMAPE AVEGARE FOR ALL IS {np.mean(smape_avg)}\")\n",
    "print(f\"VAL SMAPE AVEGARE FOR 51 patients IS {np.mean(val_smape)}\")"
   ],
   "metadata": {
    "collapsed": false,
    "ExecuteTime": {
     "end_time": "2023-08-04T06:09:11.278305Z",
     "start_time": "2023-08-04T06:06:37.274073Z"
    }
   }
  },
  {
   "cell_type": "code",
   "execution_count": 53,
   "outputs": [
    {
     "data": {
      "text/plain": "<Figure size 640x480 with 1 Axes>",
      "image/png": "[encoded data removed]"
     },
     "metadata": {},
     "output_type": "display_data"
    }
   ],
   "source": [
    "import random\n",
    "train_smape_scores_list=train_smape_scores_list[:100]\n",
    "plt.plot(train_smape_scores_list)\n",
    "\n",
    "# 添加标题和轴标签\n",
    "x_values = range(len(train_smape_scores_list))\n",
    "\n",
    "# 绘制散点图\n",
    "plt.scatter(x_values, train_smape_scores_list)\n",
    "\n",
    "# 添加标题和轴标签\n",
    "plt.title('Scatter Plot of SMAPE score')\n",
    "plt.xlabel('iteration')\n",
    "plt.ylabel('score')\n",
    "\n",
    "# 显示图形\n",
    "plt.show()"
   ],
   "metadata": {
    "collapsed": false,
    "ExecuteTime": {
     "end_time": "2023-08-04T06:15:19.893763Z",
     "start_time": "2023-08-04T06:15:19.810124Z"
    }
   }
  },
  {
   "cell_type": "code",
   "execution_count": 49,
   "metadata": {
    "trusted": true,
    "ExecuteTime": {
     "end_time": "2023-08-04T06:13:09.951840Z",
     "start_time": "2023-08-04T06:13:09.948912Z"
    }
   },
   "outputs": [
    {
     "data": {
      "text/plain": "132.57547655279248"
     },
     "execution_count": 49,
     "metadata": {},
     "output_type": "execute_result"
    }
   ],
   "source": [
    "\n",
    "(smape(y, np.zeros(y.shape[0])))"
   ]
  },
  {
   "cell_type": "code",
   "execution_count": null,
   "metadata": {
    "collapsed": false
   },
   "outputs": [],
   "source": [
    "result = []\n",
    "for i in range(3):\n",
    "    model_to_predict = model[i]\n",
    "    predictions = model_to_predict.predict(X_test_list[i])\n",
    "    result.append(predictions)"
   ]
  },
  {
   "cell_type": "code",
   "execution_count": null,
   "metadata": {
    "collapsed": false
   },
   "outputs": [],
   "source": [
    "true_labels_list = []\n",
    "predicted_labels_list = []\n",
    "for i in range(3):\n",
    "    true = []\n",
    "    predict = []\n",
    "    for j in y_test_list[i]:\n",
    "        true.append(float(j))\n",
    "    for j in result[i]:\n",
    "        predict.append(float(j))\n",
    "    true_labels_list.append(true)\n",
    "    predicted_labels_list.append(predict)"
   ]
  },
  {
   "cell_type": "code",
   "execution_count": null,
   "metadata": {
    "collapsed": false
   },
   "outputs": [],
   "source": [
    "from sklearn.linear_model import LinearRegression\n",
    "X_test_list = []\n",
    "X_train_list = []\n",
    "y_test_list = []\n",
    "y_train_list = []\n",
    "for i in range(3):\n",
    "    train_0 = df_lst[i]\n",
    "    X_all = train_0.drop(columns = ['visit_id','patient_id',f'updrs_{i+1}'])\n",
    "    # X = train_0[['visit_month']+ scale_col]\n",
    "    y_all = train_0[f'updrs_{i+1}']\n",
    "\n",
    "    total_rows = X_all.shape[0]\n",
    "\n",
    "    split_index = int(3/4 * total_rows)\n",
    "    X = X_all.iloc[:split_index]\n",
    "    X_test = X_all.iloc[split_index:]\n",
    "    X_test_list.append(X_test)\n",
    "    X_train_list.append(X)\n",
    "    y = y_all.iloc[:split_index]\n",
    "    y_test = y_all.iloc[split_index:]\n",
    "    y_test_list.append(y_test)\n",
    "    y_train_list.append(y)\n",
    "# lr = LinearRegression()\n",
    "# lr.fit(X_train_list[0], y_train_list[0])\n",
    "# model_to_predict2 = lr\n",
    "# predictions2 = model_to_predict2.predict(X_train_list[0])\n",
    "# print(r2_score(y_train_list[0], predictions2))\n",
    "rf = RandomForestRegressor(random_state=30,criterion='squared_error',n_estimators=90,min_samples_leaf=1)\n",
    "rf.fit(X_train_list[0], y_train_list[0])\n",
    "model_to_predict = rf\n",
    "predictions = model_to_predict.predict(X_train_list[0])\n",
    "r2 = r2_score(y_train_list[0], predictions)\n",
    "mse = mean_squared_error(y_train_list[0], predictions)\n",
    "r2"
   ]
  },
  {
   "cell_type": "code",
   "execution_count": null,
   "metadata": {
    "collapsed": false
   },
   "outputs": [],
   "source": [
    "from sklearn.metrics import mean_squared_error\n",
    "for i in range(3):\n",
    "    mse = mean_squared_error(true_labels_list[i], predicted_labels_list[i])\n",
    "    print(mse)\n"
   ]
  },
  {
   "cell_type": "code",
   "execution_count": null,
   "metadata": {
    "collapsed": false
   },
   "outputs": [],
   "source": [
    "from sklearn.metrics import r2_score\n",
    "for i in range(3):\n",
    "    r2 = r2_score(true_labels_list[i], predicted_labels_list[i])\n",
    "    print(r2)"
   ]
  },
  {
   "cell_type": "code",
   "execution_count": null,
   "outputs": [],
   "source": [],
   "metadata": {
    "collapsed": false
   }
  }
 ],
 "metadata": {
  "kernelspec": {
   "display_name": "Python 3",
   "language": "python",
   "name": "python3"
  },
  "language_info": {
   "codemirror_mode": {
    "name": "ipython",
    "version": 3
   },
   "file_extension": ".py",
   "mimetype": "text/x-python",
   "name": "python",
   "nbconvert_exporter": "python",
   "pygments_lexer": "ipython3",
   "version": "3.9.7"
  }
 },
 "nbformat": 4,
 "nbformat_minor": 4
}
