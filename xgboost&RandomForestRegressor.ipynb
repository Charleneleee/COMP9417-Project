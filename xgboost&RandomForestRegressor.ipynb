{
 "cells": [
  {
   "cell_type": "code",
   "execution_count": 12,
   "metadata": {
    "execution": {
     "iopub.execute_input": "2023-05-18T18:56:16.745065Z",
     "iopub.status.busy": "2023-05-18T18:56:16.744344Z",
     "iopub.status.idle": "2023-05-18T18:56:16.751071Z",
     "shell.execute_reply": "2023-05-18T18:56:16.749949Z",
     "shell.execute_reply.started": "2023-05-18T18:56:16.745025Z"
    },
    "ExecuteTime": {
     "end_time": "2023-08-04T03:54:10.167915Z",
     "start_time": "2023-08-04T03:54:10.163447Z"
    }
   },
   "outputs": [],
   "source": [
    "import pandas as pd\n",
    "import numpy as np\n",
    "from sklearn.linear_model import LinearRegression\n",
    "from xgboost import XGBRegressor\n",
    "from sklearn.metrics import mean_squared_error, mean_absolute_error, r2_score, mean_absolute_percentage_error, f1_score"
   ]
  },
  {
   "cell_type": "code",
   "execution_count": 5,
   "metadata": {
    "execution": {
     "iopub.execute_input": "2023-05-18T18:56:17.852332Z",
     "iopub.status.busy": "2023-05-18T18:56:17.851039Z",
     "iopub.status.idle": "2023-05-18T18:56:18.70273Z",
     "shell.execute_reply": "2023-05-18T18:56:18.701673Z",
     "shell.execute_reply.started": "2023-05-18T18:56:17.852287Z"
    },
    "ExecuteTime": {
     "end_time": "2023-08-04T03:53:28.511622Z",
     "start_time": "2023-08-04T03:53:28.072578Z"
    }
   },
   "outputs": [],
   "source": [
    "# Load a dataset into a Pandas DataFrame\n",
    "proteins = pd.read_csv(\"train_proteins.csv\")\n",
    "peptides = pd.read_csv(\"train_peptides.csv\")\n",
    "clinical = pd.read_csv(\"train_clinical_data.csv\")"
   ]
  },
  {
   "cell_type": "code",
   "execution_count": 6,
   "metadata": {
    "execution": {
     "iopub.execute_input": "2023-05-18T19:01:13.964326Z",
     "iopub.status.busy": "2023-05-18T19:01:13.963939Z",
     "iopub.status.idle": "2023-05-18T19:01:15.290066Z",
     "shell.execute_reply": "2023-05-18T19:01:15.289064Z",
     "shell.execute_reply.started": "2023-05-18T19:01:13.964291Z"
    },
    "ExecuteTime": {
     "end_time": "2023-08-04T03:53:30.138578Z",
     "start_time": "2023-08-04T03:53:29.628736Z"
    }
   },
   "outputs": [
    {
     "data": {
      "text/plain": "   visit_id  patient_id  visit_month  updrs_1  updrs_2  updrs_3  updrs_4   \n4     55_12          55           12     10.0     10.0     41.0      0.0  \\\n8     55_36          55           36     17.0     18.0     51.0      0.0   \n28   1517_0        1517            0     11.0      6.0     25.0      5.0   \n32  1517_24        1517           24     19.0     11.0     28.0      3.0   \n34  1517_36        1517           36     20.0     17.0     31.0      8.0   \n\n   upd23b_clinical_state_on_medication   O00391    O00533  ...  YSLTYIYTGLSK   \n4                                   On  15257.6  815083.0  ...      231772.0  \\\n8                                   On  13530.8  753832.0  ...      185290.0   \n28                                  On  11648.9  419015.0  ...      210259.0   \n32                                  On  11671.9  438138.0  ...      218111.0   \n34                                  On  10150.4  544208.0  ...      194977.0   \n\n     YTTEIIK  YVGGQEHFAHLLILR  YVM(UniMod_35)LPVADQDQC(UniMod_4)IR   \n4   17873.80        5474140.0                             116286.0  \\\n8   18580.50        2659660.0                              90936.9   \n28   6789.37        3956620.0                             101069.0   \n32  10053.50        3952000.0                             152704.0   \n34   6669.14        3903420.0                              78553.3   \n\n    YVMLPVADQDQC(UniMod_4)IR  YVNKEIQNAVNGVK  YWGVASFLQK   \n4                   711815.0        136943.0    181763.0  \\\n8                   679163.0        128593.0    203680.0   \n28                  767457.0         65663.2    113977.0   \n32                 1079680.0        102169.0    129905.0   \n34                  496351.0         67067.5     96201.7   \n\n    YYC(UniMod_4)FQGNQFLR  YYTYLIMNK  YYWGGQYTWDMAK  \n4                452253.0    54725.1        21841.1  \n8                498621.0    52792.7        13973.7  \n28               468234.0    44771.3        20695.0  \n32               373894.0    58716.7        26098.3  \n34               351596.0    46628.7        13430.0  \n\n[5 rows x 1203 columns]",
      "text/html": "<div>\n<style scoped>\n    .dataframe tbody tr th:only-of-type {\n        vertical-align: middle;\n    }\n\n    .dataframe tbody tr th {\n        vertical-align: top;\n    }\n\n    .dataframe thead th {\n        text-align: right;\n    }\n</style>\n<table border=\"1\" class=\"dataframe\">\n  <thead>\n    <tr style=\"text-align: right;\">\n      <th></th>\n      <th>visit_id</th>\n      <th>patient_id</th>\n      <th>visit_month</th>\n      <th>updrs_1</th>\n      <th>updrs_2</th>\n      <th>updrs_3</th>\n      <th>updrs_4</th>\n      <th>upd23b_clinical_state_on_medication</th>\n      <th>O00391</th>\n      <th>O00533</th>\n      <th>...</th>\n      <th>YSLTYIYTGLSK</th>\n      <th>YTTEIIK</th>\n      <th>YVGGQEHFAHLLILR</th>\n      <th>YVM(UniMod_35)LPVADQDQC(UniMod_4)IR</th>\n      <th>YVMLPVADQDQC(UniMod_4)IR</th>\n      <th>YVNKEIQNAVNGVK</th>\n      <th>YWGVASFLQK</th>\n      <th>YYC(UniMod_4)FQGNQFLR</th>\n      <th>YYTYLIMNK</th>\n      <th>YYWGGQYTWDMAK</th>\n    </tr>\n  </thead>\n  <tbody>\n    <tr>\n      <th>4</th>\n      <td>55_12</td>\n      <td>55</td>\n      <td>12</td>\n      <td>10.0</td>\n      <td>10.0</td>\n      <td>41.0</td>\n      <td>0.0</td>\n      <td>On</td>\n      <td>15257.6</td>\n      <td>815083.0</td>\n      <td>...</td>\n      <td>231772.0</td>\n      <td>17873.80</td>\n      <td>5474140.0</td>\n      <td>116286.0</td>\n      <td>711815.0</td>\n      <td>136943.0</td>\n      <td>181763.0</td>\n      <td>452253.0</td>\n      <td>54725.1</td>\n      <td>21841.1</td>\n    </tr>\n    <tr>\n      <th>8</th>\n      <td>55_36</td>\n      <td>55</td>\n      <td>36</td>\n      <td>17.0</td>\n      <td>18.0</td>\n      <td>51.0</td>\n      <td>0.0</td>\n      <td>On</td>\n      <td>13530.8</td>\n      <td>753832.0</td>\n      <td>...</td>\n      <td>185290.0</td>\n      <td>18580.50</td>\n      <td>2659660.0</td>\n      <td>90936.9</td>\n      <td>679163.0</td>\n      <td>128593.0</td>\n      <td>203680.0</td>\n      <td>498621.0</td>\n      <td>52792.7</td>\n      <td>13973.7</td>\n    </tr>\n    <tr>\n      <th>28</th>\n      <td>1517_0</td>\n      <td>1517</td>\n      <td>0</td>\n      <td>11.0</td>\n      <td>6.0</td>\n      <td>25.0</td>\n      <td>5.0</td>\n      <td>On</td>\n      <td>11648.9</td>\n      <td>419015.0</td>\n      <td>...</td>\n      <td>210259.0</td>\n      <td>6789.37</td>\n      <td>3956620.0</td>\n      <td>101069.0</td>\n      <td>767457.0</td>\n      <td>65663.2</td>\n      <td>113977.0</td>\n      <td>468234.0</td>\n      <td>44771.3</td>\n      <td>20695.0</td>\n    </tr>\n    <tr>\n      <th>32</th>\n      <td>1517_24</td>\n      <td>1517</td>\n      <td>24</td>\n      <td>19.0</td>\n      <td>11.0</td>\n      <td>28.0</td>\n      <td>3.0</td>\n      <td>On</td>\n      <td>11671.9</td>\n      <td>438138.0</td>\n      <td>...</td>\n      <td>218111.0</td>\n      <td>10053.50</td>\n      <td>3952000.0</td>\n      <td>152704.0</td>\n      <td>1079680.0</td>\n      <td>102169.0</td>\n      <td>129905.0</td>\n      <td>373894.0</td>\n      <td>58716.7</td>\n      <td>26098.3</td>\n    </tr>\n    <tr>\n      <th>34</th>\n      <td>1517_36</td>\n      <td>1517</td>\n      <td>36</td>\n      <td>20.0</td>\n      <td>17.0</td>\n      <td>31.0</td>\n      <td>8.0</td>\n      <td>On</td>\n      <td>10150.4</td>\n      <td>544208.0</td>\n      <td>...</td>\n      <td>194977.0</td>\n      <td>6669.14</td>\n      <td>3903420.0</td>\n      <td>78553.3</td>\n      <td>496351.0</td>\n      <td>67067.5</td>\n      <td>96201.7</td>\n      <td>351596.0</td>\n      <td>46628.7</td>\n      <td>13430.0</td>\n    </tr>\n  </tbody>\n</table>\n<p>5 rows × 1203 columns</p>\n</div>"
     },
     "execution_count": 6,
     "metadata": {},
     "output_type": "execute_result"
    }
   ],
   "source": [
    "protein = proteins.groupby(['visit_id','UniProt'])['NPX'].mean().reset_index()\n",
    "peptide = peptides.groupby(['visit_id','Peptide'])['PeptideAbundance'].mean().reset_index()\n",
    "\n",
    "# Step 2: Pivoting\n",
    "df_protein = protein.pivot(index='visit_id',columns = 'UniProt', values = 'NPX').rename_axis(columns=None).reset_index()\n",
    "df_peptide = peptide.pivot(index='visit_id',columns = 'Peptide', values = 'PeptideAbundance').rename_axis(columns=None).reset_index()\n",
    "\n",
    "# Step 3: Merging\n",
    "pro_pep_df = df_protein.merge(df_peptide, on = ['visit_id'], how = 'left').fillna(0)\n",
    "\n",
    "merged_df = clinical.merge(pro_pep_df, on=['visit_id'], how='left').dropna()\n",
    "merged_df.head()"
   ]
  },
  {
   "cell_type": "code",
   "execution_count": 7,
   "metadata": {
    "execution": {
     "iopub.execute_input": "2023-05-18T19:01:26.06473Z",
     "iopub.status.busy": "2023-05-18T19:01:26.064327Z",
     "iopub.status.idle": "2023-05-18T19:01:26.071963Z",
     "shell.execute_reply": "2023-05-18T19:01:26.070871Z",
     "shell.execute_reply.started": "2023-05-18T19:01:26.064697Z"
    },
    "ExecuteTime": {
     "end_time": "2023-08-04T03:53:30.253038Z",
     "start_time": "2023-08-04T03:53:30.252773Z"
    }
   },
   "outputs": [],
   "source": [
    "FEATURES = merged_df.iloc[:, 8:].columns.tolist()"
   ]
  },
  {
   "cell_type": "markdown",
   "metadata": {},
   "source": [
    "# Train Model"
   ]
  },
  {
   "cell_type": "code",
   "execution_count": 8,
   "metadata": {
    "execution": {
     "iopub.execute_input": "2023-05-18T19:01:44.396686Z",
     "iopub.status.busy": "2023-05-18T19:01:44.396282Z",
     "iopub.status.idle": "2023-05-18T19:01:44.402971Z",
     "shell.execute_reply": "2023-05-18T19:01:44.401416Z",
     "shell.execute_reply.started": "2023-05-18T19:01:44.39665Z"
    },
    "ExecuteTime": {
     "end_time": "2023-08-04T03:53:31.798411Z",
     "start_time": "2023-08-04T03:53:31.788852Z"
    }
   },
   "outputs": [],
   "source": [
    "# Define the SMAPE function\n",
    "def smape(y_true, y_pred):\n",
    "    return 2.0 * np.mean(np.abs(y_pred - y_true) / (np.abs(y_true) + np.abs(y_pred)))"
   ]
  },
  {
   "cell_type": "code",
   "execution_count": 9,
   "metadata": {
    "execution": {
     "iopub.execute_input": "2023-05-18T19:01:52.415717Z",
     "iopub.status.busy": "2023-05-18T19:01:52.415248Z",
     "iopub.status.idle": "2023-05-18T19:01:52.438583Z",
     "shell.execute_reply": "2023-05-18T19:01:52.437535Z",
     "shell.execute_reply.started": "2023-05-18T19:01:52.415682Z"
    },
    "ExecuteTime": {
     "end_time": "2023-08-04T03:53:32.276826Z",
     "start_time": "2023-08-04T03:53:32.262759Z"
    }
   },
   "outputs": [],
   "source": [
    "model = {}\n",
    "target = [\"updrs_1\", \"updrs_2\", \"updrs_3\", \"updrs_4\"]\n",
    "\n",
    "for u in target:\n",
    "        \n",
    "    # Drop NAs\n",
    "    temp = clinical.dropna(subset=[u]) \n",
    "    \n",
    "    # Train data\n",
    "    X = temp['visit_month']\n",
    "    y = temp[u]\n",
    "        \n",
    "    trained = LinearRegression().fit(X.values.reshape(-1, 1), y)\n",
    "    \n",
    "    # Save model\n",
    "    model[u] = trained"
   ]
  },
  {
   "cell_type": "code",
   "execution_count": 26,
   "outputs": [
    {
     "name": "stdout",
     "output_type": "stream",
     "text": [
      "updrs_1\n",
      "Mean Squared Error (MSE): 18.42032446789638\n",
      "Root Mean Squared Error (RMSE): 4.29189054705457\n",
      "R-squared (R2): 0.41323868853442225\n",
      "Symmetric Mean Absolute Percentage Error (SMAPE): 0.4349439904891524\n",
      "\n",
      "updrs_2\n",
      "Mean Squared Error (MSE): 17.473163413792516\n",
      "Root Mean Squared Error (RMSE): 4.180091316441845\n",
      "R-squared (R2): 0.454564872515946\n",
      "Symmetric Mean Absolute Percentage Error (SMAPE): 0.40699076276108603\n",
      "\n",
      "updrs_3\n",
      "Mean Squared Error (MSE): 105.57046210307168\n",
      "Root Mean Squared Error (RMSE): 10.27474876106816\n",
      "R-squared (R2): 0.3967075119373994\n",
      "Symmetric Mean Absolute Percentage Error (SMAPE): 0.3598549119909573\n",
      "\n",
      "updrs_4\n",
      "Mean Squared Error (MSE): 6.261136149477424\n",
      "Root Mean Squared Error (RMSE): 2.5022262386677636\n",
      "R-squared (R2): 0.4250536291406728\n",
      "Symmetric Mean Absolute Percentage Error (SMAPE): 1.2839198406060732\n",
      "\n"
     ]
    },
    {
     "data": {
      "text/plain": "<Figure size 640x480 with 1 Axes>",
      "image/png": "[encoded data removed]"
     },
     "metadata": {},
     "output_type": "display_data"
    }
   ],
   "source": [
    "from sklearn.ensemble import RandomForestRegressor\n",
    "import matplotlib.pyplot as plt\n",
    "rf_model = {}\n",
    "target = [\"updrs_1\", \"updrs_2\", \"updrs_3\", \"updrs_4\"]\n",
    "mse_list = []\n",
    "rmse_list = []\n",
    "r2_list = []\n",
    "smape_score_list = []\n",
    "for u in target:\n",
    "\n",
    "    # Drop NAs\n",
    "    temp = merged_df.dropna(subset=[u]).copy()\n",
    "\n",
    "    # Predict using LinReg\n",
    "    X = temp['visit_month']\n",
    "    temp[\"preds\"] = np.ceil(model[u].predict(X.values.reshape(-1, 1)))\n",
    "\n",
    "    X = temp[FEATURES + ['preds']]\n",
    "    y = temp[u]\n",
    "\n",
    "    rf  = RandomForestRegressor(max_depth=3, n_estimators=100, random_state=0)\n",
    "    rf.fit(X, y)\n",
    "\n",
    "    # Save model\n",
    "    rf_model[u] = rf\n",
    "\n",
    "    y_pred = rf_model[u].predict(X)\n",
    "\n",
    "    # Mean Squared Error (MSE)\n",
    "    mse = mean_squared_error(y, y_pred)\n",
    "\n",
    "    # Root Mean Squared Error (RMSE)\n",
    "    rmse = np.sqrt(mse)\n",
    "\n",
    "\n",
    "    # R-squared (R2)\n",
    "    r2 = r2_score(y, y_pred)\n",
    "\n",
    "    # Symmetric Mean Absolute Percentage Error (SMAPE)\n",
    "    smape_score = smape(y, y_pred)\n",
    "\n",
    "\n",
    "    # Print the results for the current model\n",
    "    print(u)\n",
    "    print(\"Mean Squared Error (MSE):\", mse)\n",
    "    print(\"Root Mean Squared Error (RMSE):\", rmse)\n",
    "    print(\"R-squared (R2):\", r2)\n",
    "    print(\"Symmetric Mean Absolute Percentage Error (SMAPE):\", smape_score)\n",
    "    print()\n",
    "    mse_list.append(mse)\n",
    "    rmse_list.append(rmse)\n",
    "    r2_list.append(r2)\n",
    "    smape_score_list.append(smape_score)\n",
    "\n",
    "metrics = ['MSE', 'RMSE', 'R2', 'SMAPE']\n",
    "\n",
    "# 评估指标的值\n",
    "values = [mse_list, rmse_list, r2_list, smape_score_list]\n",
    "time_points = ['updrs_1', 'updrs_2', 'updrs_3', 'updrs_4']\n",
    "# plt.plot(time_points, mse_list, label='mes')\n",
    "# plt.plot(time_points, rmse_list, label='rmse')\n",
    "# plt.plot(time_points, r2_list, label='r2')\n",
    "plt.plot(time_points, smape_score_list, label='smape_score')\n",
    "\n",
    "# 添加标签\n",
    "plt.ylabel('Values')\n",
    "plt.title('Change Over updrs')\n",
    "plt.legend()\n",
    "\n",
    "# 显示图形\n",
    "plt.show()\n"
   ],
   "metadata": {
    "collapsed": false,
    "ExecuteTime": {
     "end_time": "2023-08-04T05:36:36.513486Z",
     "start_time": "2023-08-04T05:36:13.756785Z"
    }
   }
  },
  {
   "cell_type": "code",
   "execution_count": 10,
   "metadata": {
    "execution": {
     "iopub.execute_input": "2023-05-18T19:03:52.165412Z",
     "iopub.status.busy": "2023-05-18T19:03:52.16429Z",
     "iopub.status.idle": "2023-05-18T19:04:18.257103Z",
     "shell.execute_reply": "2023-05-18T19:04:18.256117Z",
     "shell.execute_reply.started": "2023-05-18T19:03:52.165366Z"
    },
    "ExecuteTime": {
     "end_time": "2023-08-04T03:53:33.308207Z",
     "start_time": "2023-08-04T03:53:33.284717Z"
    }
   },
   "outputs": [
    {
     "ename": "NameError",
     "evalue": "name 'XGBRegressor' is not defined",
     "output_type": "error",
     "traceback": [
      "\u001B[0;31m---------------------------------------------------------------------------\u001B[0m",
      "\u001B[0;31mNameError\u001B[0m                                 Traceback (most recent call last)",
      "Cell \u001B[0;32mIn[10], line 16\u001B[0m\n\u001B[1;32m     13\u001B[0m X \u001B[38;5;241m=\u001B[39m temp[FEATURES \u001B[38;5;241m+\u001B[39m [\u001B[38;5;124m'\u001B[39m\u001B[38;5;124mpreds\u001B[39m\u001B[38;5;124m'\u001B[39m]]\n\u001B[1;32m     14\u001B[0m y \u001B[38;5;241m=\u001B[39m temp[u]\n\u001B[0;32m---> 16\u001B[0m xgb \u001B[38;5;241m=\u001B[39m \u001B[43mXGBRegressor\u001B[49m(max_depth\u001B[38;5;241m=\u001B[39m\u001B[38;5;241m3\u001B[39m, learning_rate\u001B[38;5;241m=\u001B[39m\u001B[38;5;241m0.01\u001B[39m, n_estimators\u001B[38;5;241m=\u001B[39m\u001B[38;5;241m1000\u001B[39m, tree_method\u001B[38;5;241m=\u001B[39m\u001B[38;5;124m'\u001B[39m\u001B[38;5;124mgpu_hist\u001B[39m\u001B[38;5;124m'\u001B[39m)\n\u001B[1;32m     17\u001B[0m xgb\u001B[38;5;241m.\u001B[39mfit(X, y)\n\u001B[1;32m     19\u001B[0m \u001B[38;5;66;03m# Save model\u001B[39;00m\n",
      "\u001B[0;31mNameError\u001B[0m: name 'XGBRegressor' is not defined"
     ]
    }
   ],
   "source": [
    "xgb_model = {}\n",
    "target = [\"updrs_1\", \"updrs_2\", \"updrs_3\", \"updrs_4\"]\n",
    "\n",
    "for u in target:\n",
    "        \n",
    "    # Drop NAs\n",
    "    temp = merged_df.dropna(subset=[u]).copy()\n",
    "    \n",
    "    # Predict using LinReg\n",
    "    X = temp['visit_month']\n",
    "    temp[\"preds\"] = np.ceil(model[u].predict(X.values.reshape(-1, 1)))\n",
    "    \n",
    "    X = temp[FEATURES + ['preds']]\n",
    "    y = temp[u]\n",
    "    \n",
    "    xgb = XGBRegressor(max_depth=3, learning_rate=0.01, n_estimators=1000, tree_method='gpu_hist')\n",
    "    xgb.fit(X, y)\n",
    "    \n",
    "    # Save model\n",
    "    xgb_model[u] = xgb\n",
    "    \n",
    "    y_pred = xgb_model[u].predict(X)\n",
    "    \n",
    "    # Mean Squared Error (MSE)\n",
    "    mse = mean_squared_error(y, y_pred)\n",
    "    \n",
    "    # Root Mean Squared Error (RMSE)\n",
    "    rmse = np.sqrt(mse)\n",
    "    \n",
    "    # R-squared (R2)\n",
    "    r2 = r2_score(y, y_pred)\n",
    "    \n",
    "    # Symmetric Mean Absolute Percentage Error (SMAPE)\n",
    "    smape_score = smape(y, y_pred)\n",
    "    \n",
    "    # Print the results for the current model\n",
    "    print(u)\n",
    "    print(\"Mean Squared Error (MSE):\", mse)\n",
    "    print(\"Root Mean Squared Error (RMSE):\", rmse)\n",
    "    print(\"R-squared (R2):\", r2)\n",
    "    print(\"Symmetric Mean Absolute Percentage Error (SMAPE):\", smape_score)\n",
    "    print()"
   ]
  },
  {
   "cell_type": "markdown",
   "metadata": {},
   "source": [
    "# Predict"
   ]
  },
  {
   "cell_type": "code",
   "execution_count": 14,
   "metadata": {
    "ExecuteTime": {
     "end_time": "2023-07-26T12:13:04.525214Z",
     "start_time": "2023-07-26T12:13:04.522356Z"
    },
    "execution": {
     "iopub.execute_input": "2023-05-18T19:04:23.713588Z",
     "iopub.status.busy": "2023-05-18T19:04:23.713182Z",
     "iopub.status.idle": "2023-05-18T19:04:23.727949Z",
     "shell.execute_reply": "2023-05-18T19:04:23.726632Z",
     "shell.execute_reply.started": "2023-05-18T19:04:23.713548Z"
    }
   },
   "outputs": [],
   "source": [
    "def get_predictions(my_train, model, model_1):\n",
    "\n",
    "    # Forecast\n",
    "    my_train = my_train.fillna(0)\n",
    "    \n",
    "    for u in target:\n",
    "        \n",
    "        # Here is where we will save the final results\n",
    "        my_train['result_' + str(u)] = 0\n",
    "        \n",
    "        # Predict    \n",
    "        X = my_train[\"visit_month\"]\n",
    "        \n",
    "        #LinReg\n",
    "        temp = my_train[FEATURES].copy()\n",
    "        temp['preds'] = np.ceil(model[u].predict(X.values.reshape(-1, 1)))\n",
    "        \n",
    "        if u != 'updrs_4':\n",
    "            mask = my_train[FEATURES].sum(axis=1) != 0\n",
    "            my_train.loc[mask, 'result_' + str(u)] = model_1[u].predict(temp.loc[mask])\n",
    "            my_train.loc[~mask, 'result_' + str(u)] = temp.loc[~mask, 'preds']\n",
    "    \n",
    "    # Format for final submission\n",
    "    result = pd.DataFrame()\n",
    "\n",
    "    for m in [0, 6, 12, 24]:\n",
    "        for u in [1, 2, 3, 4]:\n",
    "\n",
    "            temp = my_train[[\"visit_id\", \"result_updrs_\" + str(u)]].copy()\n",
    "            temp[\"prediction_id\"] = temp[\"visit_id\"] + \"_updrs_\" + str(u) + \"_plus_\" + str(m) + \"_months\"\n",
    "            temp[\"rating\"] = temp[\"result_updrs_\" + str(u)]\n",
    "            temp = temp [['prediction_id', 'rating']]\n",
    "\n",
    "            result = result.append(temp)            \n",
    "    result = result.drop_duplicates(subset=['prediction_id', 'rating'])\n",
    "\n",
    "    return result"
   ]
  },
  {
   "cell_type": "code",
   "execution_count": 15,
   "metadata": {
    "ExecuteTime": {
     "end_time": "2023-07-26T12:13:07.888243Z",
     "start_time": "2023-07-26T12:13:07.847633Z"
    },
    "execution": {
     "iopub.execute_input": "2023-05-18T19:04:24.704547Z",
     "iopub.status.busy": "2023-05-18T19:04:24.703776Z",
     "iopub.status.idle": "2023-05-18T19:04:24.954087Z",
     "shell.execute_reply": "2023-05-18T19:04:24.952933Z",
     "shell.execute_reply.started": "2023-05-18T19:04:24.704477Z"
    }
   },
   "outputs": [
    {
     "ename": "KeyError",
     "evalue": "'updrs_1'",
     "output_type": "error",
     "traceback": [
      "\u001B[0;31m---------------------------------------------------------------------------\u001B[0m",
      "\u001B[0;31mKeyError\u001B[0m                                  Traceback (most recent call last)",
      "Cell \u001B[0;32mIn[15], line 1\u001B[0m\n\u001B[0;32m----> 1\u001B[0m \u001B[43mget_predictions\u001B[49m\u001B[43m(\u001B[49m\u001B[43mmerged_df\u001B[49m\u001B[43m,\u001B[49m\u001B[43m \u001B[49m\u001B[43mmodel\u001B[49m\u001B[43m,\u001B[49m\u001B[43m \u001B[49m\u001B[43mxgb_model\u001B[49m\u001B[43m)\u001B[49m\u001B[38;5;241m.\u001B[39mhead()\n",
      "Cell \u001B[0;32mIn[14], line 20\u001B[0m, in \u001B[0;36mget_predictions\u001B[0;34m(my_train, model, model_1)\u001B[0m\n\u001B[1;32m     18\u001B[0m     \u001B[38;5;28;01mif\u001B[39;00m u \u001B[38;5;241m!=\u001B[39m \u001B[38;5;124m'\u001B[39m\u001B[38;5;124mupdrs_4\u001B[39m\u001B[38;5;124m'\u001B[39m:\n\u001B[1;32m     19\u001B[0m         mask \u001B[38;5;241m=\u001B[39m my_train[FEATURES]\u001B[38;5;241m.\u001B[39msum(axis\u001B[38;5;241m=\u001B[39m\u001B[38;5;241m1\u001B[39m) \u001B[38;5;241m!=\u001B[39m \u001B[38;5;241m0\u001B[39m\n\u001B[0;32m---> 20\u001B[0m         my_train\u001B[38;5;241m.\u001B[39mloc[mask, \u001B[38;5;124m'\u001B[39m\u001B[38;5;124mresult_\u001B[39m\u001B[38;5;124m'\u001B[39m \u001B[38;5;241m+\u001B[39m \u001B[38;5;28mstr\u001B[39m(u)] \u001B[38;5;241m=\u001B[39m \u001B[43mmodel_1\u001B[49m\u001B[43m[\u001B[49m\u001B[43mu\u001B[49m\u001B[43m]\u001B[49m\u001B[38;5;241m.\u001B[39mpredict(temp\u001B[38;5;241m.\u001B[39mloc[mask])\n\u001B[1;32m     21\u001B[0m         my_train\u001B[38;5;241m.\u001B[39mloc[\u001B[38;5;241m~\u001B[39mmask, \u001B[38;5;124m'\u001B[39m\u001B[38;5;124mresult_\u001B[39m\u001B[38;5;124m'\u001B[39m \u001B[38;5;241m+\u001B[39m \u001B[38;5;28mstr\u001B[39m(u)] \u001B[38;5;241m=\u001B[39m temp\u001B[38;5;241m.\u001B[39mloc[\u001B[38;5;241m~\u001B[39mmask, \u001B[38;5;124m'\u001B[39m\u001B[38;5;124mpreds\u001B[39m\u001B[38;5;124m'\u001B[39m]\n\u001B[1;32m     23\u001B[0m \u001B[38;5;66;03m# Format for final submission\u001B[39;00m\n",
      "\u001B[0;31mKeyError\u001B[0m: 'updrs_1'"
     ]
    }
   ],
   "source": [
    "get_predictions(merged_df, model, xgb_model).head()"
   ]
  },
  {
   "cell_type": "markdown",
   "metadata": {},
   "source": [
    "# Default Code to Submit Answers"
   ]
  }
 ],
 "metadata": {
  "kernelspec": {
   "display_name": "Python 3 (ipykernel)",
   "language": "python",
   "name": "python3"
  },
  "language_info": {
   "codemirror_mode": {
    "name": "ipython",
    "version": 3
   },
   "file_extension": ".py",
   "mimetype": "text/x-python",
   "name": "python",
   "nbconvert_exporter": "python",
   "pygments_lexer": "ipython3",
   "version": "3.9.7"
  }
 },
 "nbformat": 4,
 "nbformat_minor": 4
}
